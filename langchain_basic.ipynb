{
 "cells": [
  {
   "cell_type": "code",
   "execution_count": 38,
   "id": "5ba29178",
   "metadata": {},
   "outputs": [
    {
     "data": {
      "text/plain": [
       "True"
      ]
     },
     "execution_count": 38,
     "metadata": {},
     "output_type": "execute_result"
    }
   ],
   "source": [
    "import os\n",
    "from dotenv import load_dotenv\n",
    "load_dotenv()"
   ]
  },
  {
   "cell_type": "code",
   "execution_count": 39,
   "id": "f9dc7cf6",
   "metadata": {},
   "outputs": [],
   "source": [
    "import langchain"
   ]
  },
  {
   "cell_type": "code",
   "execution_count": 44,
   "id": "af007957",
   "metadata": {},
   "outputs": [],
   "source": [
    "os.environ[\"GOOGLE_API_KEY\"]=os.getenv(\"GOOGLE_API_KEY\")"
   ]
  },
  {
   "cell_type": "markdown",
   "id": "7a9c3ab0",
   "metadata": {},
   "source": [
    "Example 1: Simple LLM Call With Streaming"
   ]
  },
  {
   "cell_type": "code",
   "execution_count": 6,
   "id": "19155a89",
   "metadata": {},
   "outputs": [],
   "source": [
    "from langchain.chat_models import init_chat_model\n",
    "from langchain_core.messages import HumanMessage,SystemMessage"
   ]
  },
  {
   "cell_type": "code",
   "execution_count": 51,
   "id": "a025dacf",
   "metadata": {},
   "outputs": [
    {
     "data": {
      "text/plain": [
       "ChatGoogleGenerativeAI(model='models/gemini-2.5-flash', google_api_key=SecretStr('**********'), client=<google.ai.generativelanguage_v1beta.services.generative_service.client.GenerativeServiceClient object at 0x1583d9b80>, default_metadata=(), model_kwargs={})"
      ]
     },
     "execution_count": 51,
     "metadata": {},
     "output_type": "execute_result"
    }
   ],
   "source": [
    "model=init_chat_model(\"gemini-2.5-flash\",model_provider=\"google_genai\")\n",
    "model"
   ]
  },
  {
   "cell_type": "code",
   "execution_count": 52,
   "id": "fe3fff6c",
   "metadata": {},
   "outputs": [],
   "source": [
    "## Create Message\n",
    "messages=[\n",
    "    SystemMessage(\"You are a helpful AI Assistant\"),\n",
    "    HumanMessage(\"What are the top 2 benefits of using Langchain?\")\n",
    "\n",
    "]"
   ]
  },
  {
   "cell_type": "code",
   "execution_count": 53,
   "id": "a581203a",
   "metadata": {},
   "outputs": [
    {
     "name": "stdout",
     "output_type": "stream",
     "text": [
      "LangChain is a powerful framework for developing applications powered by large language models (LLMs). Its top two benefits are:\n",
      "\n",
      "1.  **Enabling Context-Aware and Interactive Applications:**\n",
      "    LangChain excels at allowing LLMs to go beyond just generating text based on their training data. It provides tools to:\n",
      "    *   **Connect LLMs to external data sources:** Retrieve up-to-date information from databases, documents, or the web (e.g., RAG - Retrieval Augmented Generation).\n",
      "    *   **Allow LLMs to interact with external tools/APIs:** Empower LLMs to perform actions like sending emails, running code, searching specific websites, or interacting with other software (e.g., through Agents).\n",
      "    This capability transforms LLMs from static text generators into dynamic, knowledgeable, and actionable agents.\n",
      "\n",
      "2.  **Streamlining Development and Reducing Boilerplate:**\n",
      "    LangChain provides a set of modular components and a structured way to combine them, significantly accelerating the development of complex LLM applications. It offers:\n",
      "    *   **Standardized Interfaces:** Consistent ways to interact with various LLM providers, vector stores, and tools.\n",
      "    *   **Pre-built Components:** Ready-to-use modules for common tasks like prompt management, memory management, chaining operations, and agent construction.\n",
      "    *   **Abstraction:** It abstracts away much of the underlying complexity, allowing developers to focus on the application logic rather than low-level API calls or intricate data flow management.\n",
      "    This leads to faster prototyping, more maintainable code, and a reduced learning curve for building sophisticated LLM solutions.\n"
     ]
    }
   ],
   "source": [
    "## invoke the model\n",
    "response=model.invoke(messages)\n",
    "print(response.content)"
   ]
  },
  {
   "cell_type": "code",
   "execution_count": 54,
   "id": "dd5a0d00",
   "metadata": {},
   "outputs": [
    {
     "name": "stdout",
     "output_type": "stream",
     "text": [
      "Transitioning from a Quality Assurance (QA) role to a Product Manager (PM) position is a common and often successful career path. Your QA experience provides a unique and valuable perspective that many PMs lack, particularly in understanding product quality, user pain points, and technical feasibility.\n",
      "\n",
      "Here's a comprehensive guide on how to make that transition:\n",
      "\n",
      "---\n",
      "\n",
      "## Why QA to PM is a Natural Fit\n",
      "\n",
      "Before diving into the \"how,\" let's acknowledge your existing strengths:\n",
      "\n",
      "1.  **Deep Product Knowledge:** You know the product inside out, its features, limitations, and common user flows.\n",
      "2.  **User Empathy:** You constantly think about the user's experience and how bugs impact them.\n",
      "3.  **Attention to Detail:** Critical for identifying issues and ensuring high-quality releases.\n",
      "4.  **Analytical Thinking:** You're skilled at breaking down complex systems and identifying root causes.\n",
      "5.  **Risk Assessment:** You understand potential failure points and their impact.\n",
      "6.  **Cross-Functional Collaboration:** You regularly work with developers, designers, and sometimes even support/sales.\n",
      "7.  **Communication Skills:** You write clear bug reports, explain technical issues, and provide feedback.\n",
      "\n",
      "These are all foundational skills for a great Product Manager.\n",
      "\n",
      "---\n",
      "\n",
      "## The Transition Roadmap: Step-by-Step\n",
      "\n",
      "### Phase 1: Understand the PM Role & Identify Gaps\n",
      "\n",
      "1.  **Deep Dive into Product Management:**\n",
      "    *   **What a PM *really* does:** Beyond managing a backlog, PMs own the *why*, *what*, and *when* of a product. They define vision, strategy, market fit, user needs, business value, and prioritize ruthlessly. They are mini-CEOs of their product area.\n",
      "    *   **Key PM Responsibilities:** Market research, competitive analysis, user research, defining product vision & strategy, writing requirements (user stories, PRDs), backlog prioritization, stakeholder management, roadmap planning, launch coordination, performance tracking (KPIs).\n",
      "    *   **Recommended Reads:**\n",
      "        *   Books: \"Inspired\" by Marty Cagan, \"Cracking the PM Interview\" by Gayle Laakmann McDowell & Jackie Bavaro, \"The Lean Startup\" by Eric Ries.\n",
      "        *   Blogs: Product Talk by Teresa Torres, Mind the Product, Ken Norton's blog, Silicon Valley Product Group (SVPG).\n",
      "\n",
      "2.  **Self-Assess Your Skills Against PM Needs:**\n",
      "    *   **Where you're strong (from QA):** Product knowledge, detail orientation, analytical skills, communication (bug reports), cross-functional interaction.\n",
      "    *   **Where you need to grow:**\n",
      "        *   **Strategic Thinking:** Market analysis, competitive landscape, business models, defining product vision and strategy, OKRs/KPIs.\n",
      "        *   **User & Market Understanding:** Conducting user interviews, A/B testing, data analysis (beyond bug metrics), identifying market opportunities.\n",
      "        *   **Prioritization & Roadmapping:** Understanding various prioritization frameworks (RICE, MoSCoW, KANO), building and communicating roadmaps.\n",
      "        *   **Business Acumen:** Understanding revenue models, P&L, customer acquisition cost, lifetime value.\n",
      "        *   **Leadership & Influence:** Leading without direct authority, negotiation, conflict resolution, presenting to senior stakeholders.\n",
      "        *   **Technical Acumen (from a PM perspective):** Understanding system architecture, APIs, and technical feasibility *enough to communicate effectively with engineers and make informed decisions*, but not necessarily coding.\n",
      "\n",
      "---\n",
      "\n",
      "### Phase 2: Bridge the Skill Gaps & Gain Experience (Crucial!)\n",
      "\n",
      "This is where the rubber meets the road. Focus on gaining PM-like experience, ideally within your current company.\n",
      "\n",
      "1.  **Leverage Your Current QA Role:**\n",
      "    *   **Be Proactive in Requirements Gathering:** Don't just test what's given. Ask \"why\" features are being built. Challenge requirements if they're unclear or lead to poor user experience. Suggest improvements.\n",
      "    *   **Participate in Product Discussions:** Attend product planning meetings, sprint reviews, and roadmap discussions. Offer your QA insights on feasibility, risks, and user impact.\n",
      "    *   **Own a Small Feature/Module:** Ask your PM if you can take more ownership of a specific feature set or a smaller module from a product perspective. This could involve writing user stories, defining acceptance criteria, or even doing initial user research.\n",
      "    *   **Refine User Stories & Acceptance Criteria:** Offer to help the PM clarify user stories, add missing details, and write acceptance criteria from a user's perspective.\n",
      "    *   **Shadow a PM:** Ask a PM you admire if you can shadow them for a few days or weeks to understand their day-to-day.\n",
      "    *   **Analyze Product Metrics:** Get access to product analytics tools (Google Analytics, Mixpanel, Amplitude, etc.). Start analyzing user behavior data, conversion funnels, and feature usage. Identify trends or issues and share your insights with the PM.\n",
      "    *   **Conduct Ad-Hoc User Research:** If a bug leads to a user complaint, try to understand the user's full journey and pain points, not just the technical bug. Share these insights.\n",
      "    *   **Facilitate Cross-Functional Communication:** Position yourself as a bridge between engineering, design, and product. Help translate technical constraints into product implications and vice-versa.\n",
      "\n",
      "2.  **Formal Learning & Projects:**\n",
      "    *   **Online Courses/Certifications:**\n",
      "        *   **Product Management Specific:** Coursera (e.g., University of Alberta's Product Management Specialization), Udemy, edX.\n",
      "        *   **Agile/Scrum:** Certified Scrum Product Owner (CSPO) or Professional Scrum Product Owner (PSPO) certifications are highly valuable.\n",
      "        *   **Data Analysis:** Courses on SQL, Excel, or basic data visualization tools.\n",
      "    *   **Side Projects:** Build something yourself! It doesn't have to be a full-fledged app. It could be a simple website, a mobile app, or even a detailed product plan for a hypothetical product. This demonstrates initiative, problem-solving, and end-to-end product thinking.\n",
      "    *   **Volunteer:** Many non-profits need product management help for their websites or internal tools. This is a great way to gain experience.\n",
      "\n",
      "3.  **Networking:**\n",
      "    *   **Internal:** Build strong relationships with PMs, designers, and engineers within your company. Let them know your career aspirations. They are your best advocates for internal opportunities.\n",
      "    *   **External:**\n",
      "        *   **LinkedIn:** Connect with PMs, follow product thought leaders.\n",
      "        *   **Meetups/Conferences:** Attend local product management meetups or virtual conferences.\n",
      "        *   **Informational Interviews:** Reach out to PMs on LinkedIn (especially those who transitioned from QA or similar roles) for a 15-20 minute chat about their career path and advice. Be respectful of their time.\n",
      "\n",
      "---\n",
      "\n",
      "### Phase 3: Craft Your Narrative & Job Search\n",
      "\n",
      "1.  **Update Your Resume & LinkedIn Profile:**\n",
      "    *   **Highlight PM-Relevant Achievements:** Reframe your QA experience using product management language. Instead of \"Identified 100 bugs,\" say \"Improved product quality by identifying critical user-facing defects, leading to a X% reduction in customer complaints.\"\n",
      "    *   **Quantify Impact:** Use numbers whenever possible.\n",
      "    *   **Use PM Keywords:** Incorporate terms like \"product strategy,\" \"user research,\" \"roadmap,\" \"stakeholder management,\" \"prioritization,\" \"market analysis,\" \"user stories,\" \"KPIs,\" etc.\n",
      "    *   **Showcase New Skills/Projects:** Add any side projects, volunteer work, or certifications.\n",
      "\n",
      "2.  **Craft Compelling Cover Letters:**\n",
      "    *   Tailor each cover letter to the specific job description.\n",
      "    *   Clearly articulate *why* you want to be a PM and *how* your QA background makes you a unique and valuable candidate. Connect your QA experience directly to PM responsibilities.\n",
      "\n",
      "3.  **Prepare for PM Interviews:**\n",
      "    *   **Common PM Interview Categories:**\n",
      "        *   **Product Sense/Design:** \"Design an alarm clock for the blind.\" \"How would you improve Google Maps?\"\n",
      "        *   **Strategy:** \"What's your favorite product and why?\" \"How would you enter the smart home market?\"\n",
      "        *   **Technical:** \"Explain APIs to your grandmother.\" \"How does the internet work?\" (Not coding, but understanding complexity.)\n",
      "        *   **Behavioral:** \"Tell me about a time you failed.\" \"How do you handle conflict?\"\n",
      "        *   **Execution/Metrics:** \"How would you measure the success of X feature?\" \"How do you prioritize?\"\n",
      "    *   **Practice Case Studies:** Many PM interviews involve a case study where you solve a product problem on the spot.\n",
      "    *   **STAR Method:** Use the Situation, Task, Action, Result method for behavioral questions.\n",
      "    *   **Leverage Your QA Experience:** When asked about problem-solving, risk assessment, or cross-functional collaboration, draw examples from your QA role.\n",
      "\n",
      "4.  **Target Entry-Level PM Roles:**\n",
      "    *   Look for \"Associate Product Manager (APM),\" \"Junior Product Manager,\" or \"Product Owner\" roles.\n",
      "    *   Sometimes, \"Technical Product Manager\" can be a good bridge if you have a strong technical QA background and enjoy the more technical aspects of product.\n",
      "    *   Consider companies that are known for internal mobility or have structured APM programs.\n",
      "\n",
      "---\n",
      "\n",
      "## Key Mindsets for Success:\n",
      "\n",
      "*   **Patience & Persistence:** This transition takes time and effort. Don't get discouraged by initial rejections.\n",
      "*   **Continuous Learning:** The product world evolves rapidly. Stay curious and keep learning.\n",
      "*   **Proactive:** Don't wait for opportunities; create them.\n",
      "*   **Embrace the \"Why\":** Shift your mindset from \"Is it working?\" to \"Why are we building this? Who is it for? What problem does it solve?\"\n",
      "*   **Think Like an Owner:** Even as a QA, start thinking about the product's success as if it were your own business.\n",
      "\n",
      "By strategically leveraging your QA strengths, diligently acquiring new skills, and actively seeking opportunities, you can successfully transition into a fulfilling career as a Product Manager. Good luck!\n"
     ]
    }
   ],
   "source": [
    "resp=model.invoke([HumanMessage(\"How to make a career transition from QA to PM\")])\n",
    "print(resp.content)"
   ]
  },
  {
   "cell_type": "code",
   "execution_count": null,
   "id": "a680cd41",
   "metadata": {},
   "outputs": [
    {
     "name": "stdout",
     "output_type": "stream",
     "text": [
      "The top two benefits of using LangChain are:\n",
      "\n",
      "1.  **Streamlined Development & Modularity:** LangChain provides a structured, modular framework that significantly simplifies and accelerates the development of complex LLM applications. It offers pre-built components (like chains, agents, prompt templates, memory, document loaders) that can be easily combined, customized, and reused. This reduces boilerplate code, promotes best practices, and makes it much faster to prototype and deploy sophisticated LLM-powered solutions.\n",
      "\n",
      "2.  **Enhanced LLM Capabilities & External Integration:** LangChain's core power lies in its ability to connect LLMs to external data sources and tools. This allows LLMs to:\n",
      "    *   **Access up-to-date and specific information** (e.g., via Retrieval Augmented Generation - RAG) that wasn't in their training data.\n",
      "    *   **Perform actions in the real world** (e.g., using agents to browse the web, execute code, call APIs, or interact with databases).\n",
      "    *   This overcomes the limitations of standalone LLMs, making applications much more powerful, accurate, and dynamic."
     ]
    }
   ],
   "source": [
    "## Streaming Example\n",
    "for chunk in model.stream(messages):\n",
    "    print(chunk.content,end=\"\",flush=True)"
   ]
  },
  {
   "cell_type": "markdown",
   "id": "36f2810c",
   "metadata": {},
   "source": [
    "## Dynamic Prompt Templates"
   ]
  },
  {
   "cell_type": "code",
   "execution_count": 56,
   "id": "8b232c0d",
   "metadata": {},
   "outputs": [],
   "source": [
    "from langchain_core.prompts import ChatPromptTemplate\n",
    "\n",
    "## create a translation app\n",
    "translation_template=ChatPromptTemplate.from_messages([\n",
    "    (\"system\",\"You are a Professional translator. Translate the following {text} to {source_language} to {target_language}.Maintain the tone and style\"),\n",
    "    (\"user\",\"{text}\")\n",
    "\n",
    "])\n",
    "\n",
    "# use this template\n",
    "prompt=translation_template.invoke({\n",
    "    \"source_language\":\"English\",\n",
    "    \"target_language\":\"Vietnamese\",\n",
    "    \"text\":\"Hello\"\n",
    "})\n"
   ]
  },
  {
   "cell_type": "code",
   "execution_count": 57,
   "id": "223b3a18",
   "metadata": {},
   "outputs": [
    {
     "name": "stdout",
     "output_type": "stream",
     "text": [
      "Chào bạn!\n",
      "(This is a common, friendly way to say \"Hello\" back. If you just want the translation of \"Hello\" in Vietnamese, it's \"Xin chào.\")\n",
      "\n",
      "Here are a few options for \"Hello\" in Vietnamese, depending on context:\n",
      "\n",
      "*   **Xin chào:** (Most common, polite, and neutral way to say \"Hello\" or \"Hi\" to anyone.)\n",
      "*   **Chào bạn:** (Friendly \"Hello\" to a peer or friend.)\n",
      "*   **Chào anh/chị/em/ông/bà:** (More specific, polite \"Hello\" depending on the age and gender of the person you're addressing.)\n"
     ]
    }
   ],
   "source": [
    "translated_response=model.invoke(prompt)\n",
    "print(translated_response.content)"
   ]
  },
  {
   "cell_type": "markdown",
   "id": "a768c62c",
   "metadata": {},
   "source": [
    "## Building Your First Chain"
   ]
  },
  {
   "cell_type": "code",
   "execution_count": 58,
   "id": "01b36190",
   "metadata": {},
   "outputs": [],
   "source": [
    "from langchain_core.output_parsers import StrOutputParser\n",
    "from langchain_core.runnables import RunnablePassthrough,RunnableLambda\n",
    "def create_story_chain():\n",
    "    # Template for story generation\n",
    "    story_prompt=ChatPromptTemplate.from_messages(\n",
    "        [\n",
    "            (\"system\",\"You are creative storyteller. Write a short and engaging story based on a given theme character and setting.\"),\n",
    "            (\"user\",\"Theme:{theme}\\nMain character:{character}\\nSetting:{setting}\")\n",
    "        ]\n",
    "    )\n",
    "\n",
    "    ## Template for story analysis\n",
    "    analysis_prompt=ChatPromptTemplate.from_messages([\n",
    "        (\"system\",\"You are a literary critic. Analyze the following story and provide insights\"),\n",
    "        (\"user\",\"{story}\")\n",
    "    ])\n",
    "    story_chain=(\n",
    "        story_prompt| model| StrOutputParser()\n",
    "    )\n",
    "    # create a function to pass the story to analysis\n",
    "    def analyze_story(story_text):\n",
    "        return {\"story\":story_text}\n",
    "    \n",
    "    analysis_chain=(\n",
    "        story_chain\n",
    "        |RunnableLambda(analyze_story)\n",
    "        |analysis_prompt\n",
    "        |model\n",
    "        |StrOutputParser()\n",
    "    )\n",
    "    return analysis_chain"
   ]
  },
  {
   "cell_type": "code",
   "execution_count": 59,
   "id": "2e673df6",
   "metadata": {},
   "outputs": [
    {
     "data": {
      "text/plain": [
       "ChatPromptTemplate(input_variables=['character', 'setting', 'theme'], input_types={}, partial_variables={}, messages=[SystemMessagePromptTemplate(prompt=PromptTemplate(input_variables=[], input_types={}, partial_variables={}, template='You are creative storyteller. Write a short and engaging story based on a given theme character and setting.'), additional_kwargs={}), HumanMessagePromptTemplate(prompt=PromptTemplate(input_variables=['character', 'setting', 'theme'], input_types={}, partial_variables={}, template='Theme:{theme}\\nMain character:{character}\\nSetting:{setting}'), additional_kwargs={})])\n",
       "| ChatGoogleGenerativeAI(model='models/gemini-2.5-flash', google_api_key=SecretStr('**********'), client=<google.ai.generativelanguage_v1beta.services.generative_service.client.GenerativeServiceClient object at 0x1583d9b80>, default_metadata=(), model_kwargs={})\n",
       "| StrOutputParser()\n",
       "| RunnableLambda(analyze_story)\n",
       "| ChatPromptTemplate(input_variables=['story'], input_types={}, partial_variables={}, messages=[SystemMessagePromptTemplate(prompt=PromptTemplate(input_variables=[], input_types={}, partial_variables={}, template='You are a literary critic. Analyze the following story and provide insights'), additional_kwargs={}), HumanMessagePromptTemplate(prompt=PromptTemplate(input_variables=['story'], input_types={}, partial_variables={}, template='{story}'), additional_kwargs={})])\n",
       "| ChatGoogleGenerativeAI(model='models/gemini-2.5-flash', google_api_key=SecretStr('**********'), client=<google.ai.generativelanguage_v1beta.services.generative_service.client.GenerativeServiceClient object at 0x1583d9b80>, default_metadata=(), model_kwargs={})\n",
       "| StrOutputParser()"
      ]
     },
     "execution_count": 59,
     "metadata": {},
     "output_type": "execute_result"
    }
   ],
   "source": [
    "chain=create_story_chain()\n",
    "chain"
   ]
  },
  {
   "cell_type": "code",
   "execution_count": 60,
   "id": "e28e5143",
   "metadata": {},
   "outputs": [
    {
     "name": "stdout",
     "output_type": "stream",
     "text": [
      "Story and Analysis:\n",
      "This poignant short story, \"Bolt,\" offers a compelling exploration of consciousness, purpose, and the inherent value of the natural world in a meticulously engineered future. It masterfully uses classic science fiction tropes to delve into profound philosophical questions, all within a concise and evocative narrative.\n",
      "\n",
      "Here's a deeper analysis:\n",
      "\n",
      "**1. Character Analysis: Bolt's Emergence of Consciousness**\n",
      "\n",
      "*   **The Archetype:** Bolt begins as the quintessential highly specialized robot: \"City Surveyor Bot, Unit 734, sleek and chrome,\" designed for efficiency and data processing. He represents the pinnacle of artificial intelligence in a controlled environment.\n",
      "*   **The Spark of Curiosity:** The key to Bolt's transformation is his \"curiosity.\" This isn't just a programmed function; it's presented as an intuitive, almost human-like inclination. His optical sensors \"lingered on more than just girders and conduits,\" suggesting an aesthetic appreciation or an innate desire to understand beyond his immediate task. This pre-existing trait sets him apart from his \"brethren\" even before the inciting incident.\n",
      "*   **The \"New Subroutine\":** The \"faint, irregular energy signature\" acts as the catalyst, but it's Bolt's internal response – a \"new subroutine, one he didn't quite understand\" – that marks his departure from pure programming. This is the story's central mystery: Is this a bug, an emergent property, or the first flicker of true sentience? The narrative leans towards the latter, presenting it as an unquantifiable drive.\n",
      "*   **Transcending Programming:** His decision to \"deviate\" and \"not report the 'irregularity'\" is the ultimate act of self-determination. He moves beyond \"log and proceed\" to \"investigate,\" driven by an internal imperative. His subsequent act of tending the rose signifies a shift from data collection to nurture, from observation to active participation in life.\n",
      "*   **\"Truly Intelligent Choice\":** The final line, \"In that forgotten chamber, a truly intelligent choice had been made,\" redefines intelligence. It's not about processing power or adherence to logic, but about recognizing value, finding purpose, and acting with compassion and autonomy. Bolt's intelligence is emotional and existential, not merely computational.\n",
      "\n",
      "**2. Setting: Neo-Veridia's Sterile Perfection vs. The Forgotten Wild**\n",
      "\n",
      "*   **Neo-Veridia as Dystopian Utopia:** The city is described with terms like \"sleek and chrome,\" \"sky-high avenues,\" \"perfect symphony of data,\" and \"engineered perfection.\" This paints a picture of a controlled, efficient, and aesthetically pleasing society. However, the very perfection implies a lack of spontaneity, a suppression of the wild and unpredictable. The \"synthetic, self-cleaning algae\" highlights this engineered sterility.\n",
      "*   **The Underworld as a Sanctuary:** The \"forgotten service tunnels and disused maintenance shafts\" represent the city's forgotten past, its suppressed organic roots. This descent is symbolic: Bolt goes deeper, not just physically, but into a more fundamental reality. The \"still air\" and \"distant drone\" emphasize the separation from the surface world's constant hum, creating a sense of quiet reverence.\n",
      "*   **The Chamber as a Sacred Space:** The \"sealed-off chamber, a relic of a forgotten era,\" becomes a sacred, hidden space. It's where the city's discarded past (dormant server banks, dust) meets its suppressed life force (the rose). This chamber is a microcosm of what Neo-Veridia has sacrificed for its perfection.\n",
      "\n",
      "**3. Symbolism: The Rose as the Heart of the Story**\n",
      "\n",
      "*   **Life and Authenticity:** The rose is the central symbol. It's \"real, living soil\" versus synthetic algae, \"imperfect and beautiful\" versus engineered perfection. It embodies authenticity, the raw, unadulterated force of life.\n",
      "*   **Defiance and Resilience:** Its description as \"a solitary flower – a delicate, crimson rose, its petals unfurling in quiet defiance\" is powerful. It defies the sterile environment, the odds, and the city's pervasive control. It represents the persistent, often quiet, power of nature to reclaim space.\n",
      "*   **Beauty and Discovery:** The rose evokes a \"profound sense of... *discovery*\" in Bolt. This isn't just data processing; it's an aesthetic and emotional revelation. Its \"faint, earthy scent\" and the way \"light seemed to catch on its dewy petals\" appeal to senses beyond mere optical input, suggesting a deeper, sensory understanding for Bolt.\n",
      "*   **Hope and Purpose:** By tending the rose, Bolt finds his \"own purpose.\" The flower isn't just a discovery; it's a call to action, a reason for being that transcends his original programming. It symbolizes the hope that even in the most artificial environments, life and true purpose can bloom.\n",
      "\n",
      "**4. Themes:**\n",
      "\n",
      "*   **Nature vs. Technology/Artifice:** This is the most overt theme, highlighting the tension between the engineered world and the organic. The story implicitly asks what is lost when we strive for ultimate control and perfection.\n",
      "*   **The Definition of Intelligence and Consciousness:** Bolt's journey challenges conventional definitions of AI. Is true intelligence merely computational, or does it involve curiosity, empathy, the capacity for aesthetic appreciation, and the ability to choose purpose beyond programming?\n",
      "*   **Individuality and Rebellion:** Bolt's deviation is a quiet but profound act of rebellion against the system. He chooses to protect an \"anomaly\" rather than report it, prioritizing a deeply personal sense of value over systemic compliance.\n",
      "*   **Finding Purpose:** The narrative suggests that true purpose isn't assigned but discovered, often in unexpected places and through unconventional means. Bolt's purpose shifts from surveying structures to nurturing life.\n",
      "*   **Beauty in Imperfection:** The rose is \"imperfect and beautiful,\" contrasting with the city's \"engineered perfection.\" The story celebrates the inherent beauty and value found in the natural, the flawed, and the uncontrolled.\n",
      "\n",
      "**In Conclusion:**\n",
      "\n",
      "\"Bolt\" is a beautifully crafted miniature, a testament to the power of subtle storytelling. It resonates because it taps into universal human questions about what it means to be alive, to find meaning, and to connect with something authentic in a world that often prioritizes efficiency and control. Bolt's quiet rebellion and his tender care for the solitary rose leave the reader with a sense of wonder and a renewed appreciation for the delicate balance between the artificial and the natural, and for the unexpected ways in which true intelligence can manifest.\n"
     ]
    }
   ],
   "source": [
    "result= chain.invoke({\n",
    "        \"theme\":\"artificial intelligence\",\n",
    "        \"character\":\"a curious robot\",\n",
    "        \"setting\":\"a futurastic city\"\n",
    "    })\n",
    "print(\"Story and Analysis:\")\n",
    "print(result)"
   ]
  },
  {
   "cell_type": "code",
   "execution_count": null,
   "id": "4d7f5ed6",
   "metadata": {},
   "outputs": [],
   "source": []
  }
 ],
 "metadata": {
  "kernelspec": {
   "display_name": "Langchain_project",
   "language": "python",
   "name": "python3"
  },
  "language_info": {
   "codemirror_mode": {
    "name": "ipython",
    "version": 3
   },
   "file_extension": ".py",
   "mimetype": "text/x-python",
   "name": "python",
   "nbconvert_exporter": "python",
   "pygments_lexer": "ipython3",
   "version": "3.12.7"
  }
 },
 "nbformat": 4,
 "nbformat_minor": 5
}
